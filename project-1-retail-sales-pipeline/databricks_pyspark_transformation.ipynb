{
 "cells": [
  {
   "cell_type": "code",
   "execution_count": null,
   "id": "4f6f774d-a43d-4e50-a8ea-ff6e01e63ee3",
   "metadata": {},
   "outputs": [],
   "source": [
    "# Databricks notebook source\n",
    "# Import libraries\n",
    "from pyspark.sql import SparkSession\n",
    "from pyspark.sql.functions import col, sum as _sum, to_date\n",
    "\n",
    "# Create Spark session\n",
    "spark = SparkSession.builder.appName(\"RetailSalesTransformation\").getOrCreate()\n",
    "\n",
    "# File paths (replace with your ADLS paths in real setup)\n",
    "sales_path = \"/Downloads/retail_sales.csv\"\n",
    "product_path = \"/Downloads/data/product_master.csv\"\n",
    "\n",
    "# Read CSV files into DataFrames\n",
    "df_sales = spark.read.csv(sales_path, header=True, inferSchema=True)\n",
    "df_products = spark.read.csv(product_path, header=True, inferSchema=True)\n",
    "\n",
    "# Convert date column to proper date type\n",
    "df_sales = df_sales.withColumn(\"date\", to_date(col(\"date\"), \"yyyy-MM-dd\"))\n",
    "\n",
    "# Join sales with product details\n",
    "df_joined = df_sales.join(df_products, on=\"product_id\", how=\"left\")\n",
    "\n",
    "# Calculate total sales per category\n",
    "df_category_sales = df_joined.groupBy(\"category\") \\\n",
    "    .agg(_sum(\"sales_amount\").alias(\"total_sales\")) \\\n",
    "    .orderBy(col(\"total_sales\").desc())\n",
    "\n",
    "# Show result\n",
    "df_category_sales.show()\n",
    "\n",
    "# Save transformed data back to ADLS (processed zone)\n",
    "output_path = \"/mnt/processed/retail_category_sales\"\n",
    "df_category_sales.write.mode(\"overwrite\").parquet(output_path)\n",
    "\n",
    "print(\"Transformation completed successfully!\")\n"
   ]
  }
 ],
 "metadata": {
  "kernelspec": {
   "display_name": "Python 3 (ipykernel)",
   "language": "python",
   "name": "python3"
  },
  "language_info": {
   "codemirror_mode": {
    "name": "ipython",
    "version": 3
   },
   "file_extension": ".py",
   "mimetype": "text/x-python",
   "name": "python",
   "nbconvert_exporter": "python",
   "pygments_lexer": "ipython3",
   "version": "3.12.8"
  }
 },
 "nbformat": 4,
 "nbformat_minor": 5
}
